{
 "cells": [
  {
   "cell_type": "code",
   "execution_count": 1,
   "id": "35fcab2b",
   "metadata": {},
   "outputs": [],
   "source": [
    "import pandas as pd\n",
    "import matplotlib.pyplot as plt"
   ]
  },
  {
   "cell_type": "code",
   "execution_count": 2,
   "id": "ef1b5c3c",
   "metadata": {},
   "outputs": [],
   "source": [
    "data = pd.read_csv('data/Airbnb_Texas_Rentals.csv', index_col=0)"
   ]
  },
  {
   "cell_type": "markdown",
   "id": "b8580892",
   "metadata": {},
   "source": [
    "<b> Data characteristics </b>"
   ]
  },
  {
   "cell_type": "code",
   "execution_count": 3,
   "id": "8601607c",
   "metadata": {},
   "outputs": [
    {
     "data": {
      "text/plain": [
       "(18259, 9)"
      ]
     },
     "execution_count": 3,
     "metadata": {},
     "output_type": "execute_result"
    }
   ],
   "source": [
    "data.shape"
   ]
  },
  {
   "cell_type": "code",
   "execution_count": 4,
   "id": "500dff9b",
   "metadata": {},
   "outputs": [
    {
     "data": {
      "text/plain": [
       "average_rate_per_night     object\n",
       "bedrooms_count             object\n",
       "city                       object\n",
       "date_of_listing            object\n",
       "description                object\n",
       "latitude                  float64\n",
       "longitude                 float64\n",
       "title                      object\n",
       "url                        object\n",
       "dtype: object"
      ]
     },
     "execution_count": 4,
     "metadata": {},
     "output_type": "execute_result"
    }
   ],
   "source": [
    "data.dtypes"
   ]
  },
  {
   "cell_type": "code",
   "execution_count": 5,
   "id": "29a09643",
   "metadata": {},
   "outputs": [
    {
     "data": {
      "text/html": [
       "<div>\n",
       "<style scoped>\n",
       "    .dataframe tbody tr th:only-of-type {\n",
       "        vertical-align: middle;\n",
       "    }\n",
       "\n",
       "    .dataframe tbody tr th {\n",
       "        vertical-align: top;\n",
       "    }\n",
       "\n",
       "    .dataframe thead th {\n",
       "        text-align: right;\n",
       "    }\n",
       "</style>\n",
       "<table border=\"1\" class=\"dataframe\">\n",
       "  <thead>\n",
       "    <tr style=\"text-align: right;\">\n",
       "      <th></th>\n",
       "      <th>latitude</th>\n",
       "      <th>longitude</th>\n",
       "    </tr>\n",
       "  </thead>\n",
       "  <tbody>\n",
       "    <tr>\n",
       "      <th>count</th>\n",
       "      <td>18225.000000</td>\n",
       "      <td>18225.000000</td>\n",
       "    </tr>\n",
       "    <tr>\n",
       "      <th>mean</th>\n",
       "      <td>30.684906</td>\n",
       "      <td>-97.076785</td>\n",
       "    </tr>\n",
       "    <tr>\n",
       "      <th>std</th>\n",
       "      <td>1.671008</td>\n",
       "      <td>1.328314</td>\n",
       "    </tr>\n",
       "    <tr>\n",
       "      <th>min</th>\n",
       "      <td>25.894075</td>\n",
       "      <td>-103.690925</td>\n",
       "    </tr>\n",
       "    <tr>\n",
       "      <th>25%</th>\n",
       "      <td>29.693117</td>\n",
       "      <td>-97.817193</td>\n",
       "    </tr>\n",
       "    <tr>\n",
       "      <th>50%</th>\n",
       "      <td>30.275907</td>\n",
       "      <td>-97.134467</td>\n",
       "    </tr>\n",
       "    <tr>\n",
       "      <th>75%</th>\n",
       "      <td>32.671095</td>\n",
       "      <td>-96.307023</td>\n",
       "    </tr>\n",
       "    <tr>\n",
       "      <th>max</th>\n",
       "      <td>35.256299</td>\n",
       "      <td>-93.771139</td>\n",
       "    </tr>\n",
       "  </tbody>\n",
       "</table>\n",
       "</div>"
      ],
      "text/plain": [
       "           latitude     longitude\n",
       "count  18225.000000  18225.000000\n",
       "mean      30.684906    -97.076785\n",
       "std        1.671008      1.328314\n",
       "min       25.894075   -103.690925\n",
       "25%       29.693117    -97.817193\n",
       "50%       30.275907    -97.134467\n",
       "75%       32.671095    -96.307023\n",
       "max       35.256299    -93.771139"
      ]
     },
     "execution_count": 5,
     "metadata": {},
     "output_type": "execute_result"
    }
   ],
   "source": [
    "data.describe()"
   ]
  },
  {
   "cell_type": "code",
   "execution_count": 8,
   "id": "18ce8046",
   "metadata": {},
   "outputs": [
    {
     "name": "stdout",
     "output_type": "stream",
     "text": [
      "Unique values count for each column: \n"
     ]
    },
    {
     "data": {
      "text/plain": [
       "{'average_rate_per_night': 700,\n",
       " 'bedrooms_count': 13,\n",
       " 'city': 505,\n",
       " 'date_of_listing': 102,\n",
       " 'description': 11076,\n",
       " 'latitude': 11516,\n",
       " 'longitude': 11516,\n",
       " 'title': 11398,\n",
       " 'url': 18259}"
      ]
     },
     "execution_count": 8,
     "metadata": {},
     "output_type": "execute_result"
    }
   ],
   "source": [
    "print('Unique values count for each column: ')\n",
    "{i:data[i].nunique() for i in data}"
   ]
  },
  {
   "cell_type": "code",
   "execution_count": 9,
   "id": "24aeac44",
   "metadata": {},
   "outputs": [
    {
     "name": "stdout",
     "output_type": "stream",
     "text": [
      "Duplicated values count for each column: \n"
     ]
    },
    {
     "data": {
      "text/plain": [
       "{'average_rate_per_night': 17558,\n",
       " 'bedrooms_count': 18245,\n",
       " 'city': 17754,\n",
       " 'date_of_listing': 18157,\n",
       " 'description': 7182,\n",
       " 'latitude': 6742,\n",
       " 'longitude': 6742,\n",
       " 'title': 6860,\n",
       " 'url': 0}"
      ]
     },
     "execution_count": 9,
     "metadata": {},
     "output_type": "execute_result"
    }
   ],
   "source": [
    "print('Duplicated values count for each column: ')\n",
    "\n",
    "{i:data[i].duplicated().sum() for i in data}"
   ]
  },
  {
   "cell_type": "code",
   "execution_count": 27,
   "id": "f4518e2a",
   "metadata": {},
   "outputs": [
    {
     "name": "stdout",
     "output_type": "stream",
     "text": [
      "Nan values count for each column: \n"
     ]
    },
    {
     "data": {
      "text/plain": [
       "{'average_rate_per_night': 28,\n",
       " 'bedrooms_count': 3,\n",
       " 'city': 0,\n",
       " 'date_of_listing': 0,\n",
       " 'description': 2,\n",
       " 'latitude': 34,\n",
       " 'longitude': 34,\n",
       " 'title': 3,\n",
       " 'url': 0}"
      ]
     },
     "execution_count": 27,
     "metadata": {},
     "output_type": "execute_result"
    }
   ],
   "source": [
    "print('Nan values count for each column: ')\n",
    "\n",
    "{i:data[i].isna().sum() for i in data}"
   ]
  },
  {
   "cell_type": "markdown",
   "id": "d419833d",
   "metadata": {},
   "source": [
    "<b> Columns preprocessing </b>"
   ]
  },
  {
   "cell_type": "code",
   "execution_count": 28,
   "id": "ebe450fc",
   "metadata": {},
   "outputs": [
    {
     "data": {
      "text/plain": [
       "Series([], Name: average_rate_per_night, dtype: object)"
      ]
     },
     "execution_count": 28,
     "metadata": {},
     "output_type": "execute_result"
    }
   ],
   "source": [
    "data['average_rate_per_night'][~(data['average_rate_per_night'].str.startswith('$').astype('bool').values)]"
   ]
  },
  {
   "cell_type": "code",
   "execution_count": 39,
   "id": "b4434d13",
   "metadata": {},
   "outputs": [],
   "source": [
    "data['average_rate_per_night_dollar'] = data['average_rate_per_night'].apply(lambda row: None if pd.isna(row) else row[1:]).values\n",
    "data['average_rate_per_night_dollar'] = data['average_rate_per_night_dollar'].astype('float64')"
   ]
  },
  {
   "cell_type": "code",
   "execution_count": 50,
   "id": "1c076e23",
   "metadata": {},
   "outputs": [
    {
     "data": {
      "text/plain": [
       "0"
      ]
     },
     "execution_count": 50,
     "metadata": {},
     "output_type": "execute_result"
    }
   ],
   "source": [
    "(data.bedrooms_count=='0').sum()"
   ]
  },
  {
   "cell_type": "code",
   "execution_count": 49,
   "id": "719a58c7",
   "metadata": {},
   "outputs": [
    {
     "data": {
      "text/plain": [
       "10       Studio\n",
       "25       Studio\n",
       "33       Studio\n",
       "89       Studio\n",
       "109      Studio\n",
       "          ...  \n",
       "18155    Studio\n",
       "18165    Studio\n",
       "18178    Studio\n",
       "18197    Studio\n",
       "18225    Studio\n",
       "Name: bedrooms_count, Length: 1026, dtype: object"
      ]
     },
     "execution_count": 49,
     "metadata": {},
     "output_type": "execute_result"
    }
   ],
   "source": [
    "data.bedrooms_count[~(data.bedrooms_count.str.contains('\\\\d', regex=True).astype('bool'))]"
   ]
  },
  {
   "cell_type": "code",
   "execution_count": 52,
   "id": "e7a0b97d",
   "metadata": {},
   "outputs": [],
   "source": [
    "data['bedrooms_count_int'] = data['bedrooms_count'].replace('Studio', '0').astype('float64')"
   ]
  },
  {
   "cell_type": "code",
   "execution_count": 54,
   "id": "cdf31a03",
   "metadata": {},
   "outputs": [],
   "source": [
    "data['city_chng'] = data['city'].str.lower().str.strip().values"
   ]
  },
  {
   "cell_type": "code",
   "execution_count": 56,
   "id": "ed5100f2",
   "metadata": {},
   "outputs": [
    {
     "data": {
      "text/plain": [
       "array(['May 2016', 'November 2010', 'January 2017', ..., 'December 2016',\n",
       "       'October 2016', 'July 2015'], dtype=object)"
      ]
     },
     "execution_count": 56,
     "metadata": {},
     "output_type": "execute_result"
    }
   ],
   "source": [
    "data['date_of_listing'].values"
   ]
  },
  {
   "cell_type": "code",
   "execution_count": 71,
   "id": "72188aef",
   "metadata": {},
   "outputs": [],
   "source": [
    "data['month'] = data['date_of_listing'].apply(lambda row: row.split(' ')[0]).astype(str).values\n",
    "data['year'] = data['date_of_listing'].apply(lambda row: row.split(' ')[1]).astype(int).values"
   ]
  },
  {
   "cell_type": "code",
   "execution_count": 73,
   "id": "2e6e1b5f",
   "metadata": {},
   "outputs": [],
   "source": [
    "data['latitude'] = data['latitude'].astype('float64')\n",
    "data['longitude'] = data['longitude'].astype('float64')"
   ]
  },
  {
   "cell_type": "markdown",
   "id": "4c33f7c3",
   "metadata": {},
   "source": [
    "<b> Data EDA plots</b>"
   ]
  },
  {
   "cell_type": "code",
   "execution_count": 80,
   "id": "8eb435e1",
   "metadata": {},
   "outputs": [
    {
     "data": {
      "text/plain": [
       "count    18231.000000\n",
       "mean       211.539740\n",
       "std        415.569334\n",
       "min         10.000000\n",
       "25%         59.000000\n",
       "50%        109.000000\n",
       "75%        212.000000\n",
       "max      10000.000000\n",
       "Name: average_rate_per_night_dollar, dtype: float64"
      ]
     },
     "execution_count": 80,
     "metadata": {},
     "output_type": "execute_result"
    }
   ],
   "source": [
    "data.average_rate_per_night_dollar.describe()"
   ]
  },
  {
   "cell_type": "code",
   "execution_count": 99,
   "id": "4bb35967",
   "metadata": {},
   "outputs": [],
   "source": [
    "import numpy as np\n",
    "quants = np.quantile(data.average_rate_per_night_dollar.fillna(0), np.linspace(0, 0.9, 9))"
   ]
  },
  {
   "cell_type": "code",
   "execution_count": 100,
   "id": "379c414e",
   "metadata": {},
   "outputs": [
    {
     "data": {
      "text/plain": [
       "array([  0.,  40.,  54.,  75.,  97., 125., 169., 250., 402.])"
      ]
     },
     "execution_count": 100,
     "metadata": {},
     "output_type": "execute_result"
    }
   ],
   "source": [
    "quants"
   ]
  },
  {
   "cell_type": "code",
   "execution_count": 103,
   "id": "0bea177e",
   "metadata": {},
   "outputs": [
    {
     "data": {
      "image/png": "[encoded data removed]",
      "text/plain": [
       "<Figure size 432x288 with 1 Axes>"
      ]
     },
     "metadata": {
      "needs_background": "light"
     },
     "output_type": "display_data"
    }
   ],
   "source": [
    "data.average_rate_per_night_dollar.hist(bins=quants)\n",
    "plt.xticks(quants)\n",
    "plt.title('Average rate per night distribution')\n",
    "plt.xlabel('Avg Rate per night')\n",
    "plt.ylabel('Count')\n",
    "plt.show()"
   ]
  },
  {
   "cell_type": "code",
   "execution_count": 117,
   "id": "1aaffeaa",
   "metadata": {},
   "outputs": [
    {
     "data": {
      "text/plain": [
       "array([ 2.,  4.,  1.,  3.,  0.,  7.,  5.,  8.,  6.,  9., 11., nan, 13.,\n",
       "       10.])"
      ]
     },
     "execution_count": 117,
     "metadata": {},
     "output_type": "execute_result"
    }
   ],
   "source": [
    "data.bedrooms_count_int.unique()"
   ]
  },
  {
   "cell_type": "code",
   "execution_count": 118,
   "id": "724c2c58",
   "metadata": {},
   "outputs": [
    {
     "data": {
      "text/plain": [
       "dict_values([3302, 1238, 9394, 2732, 1026, 36, 410, 22, 76, 5, 1, 1, 1, 13, 1, 1])"
      ]
     },
     "execution_count": 118,
     "metadata": {},
     "output_type": "execute_result"
    }
   ],
   "source": [
    "cnts.values()"
   ]
  },
  {
   "cell_type": "code",
   "execution_count": 122,
   "id": "2ae9e371",
   "metadata": {},
   "outputs": [
    {
     "data": {
      "image/png": "[encoded data removed]",
      "text/plain": [
       "<Figure size 432x288 with 1 Axes>"
      ]
     },
     "metadata": {
      "needs_background": "light"
     },
     "output_type": "display_data"
    }
   ],
   "source": [
    "from collections import Counter\n",
    "cnts = Counter(data.bedrooms_count_int)\n",
    "plt.bar(cnts.keys(), cnts.values())\n",
    "plt.xticks(data.bedrooms_count_int.fillna(0).unique())\n",
    "plt.xlabel('Bedrooms count')\n",
    "plt.ylabel('Count')\n",
    "plt.title('Bedrooms count distribution')\n",
    "plt.show()"
   ]
  },
  {
   "cell_type": "code",
   "execution_count": 128,
   "id": "243ab82d",
   "metadata": {},
   "outputs": [
    {
     "data": {
      "image/png": "[encoded data removed]",
      "text/plain": [
       "<Figure size 432x288 with 1 Axes>"
      ]
     },
     "metadata": {
      "needs_background": "light"
     },
     "output_type": "display_data"
    }
   ],
   "source": [
    "from collections import Counter\n",
    "cnts = Counter(data.month)\n",
    "plt.bar(cnts.keys(), cnts.values())\n",
    "plt.xticks(data.month.unique(), rotation='50')\n",
    "plt.xlabel('Months')\n",
    "plt.ylabel('Count')\n",
    "plt.title('Months count distribution')\n",
    "plt.show()"
   ]
  },
  {
   "cell_type": "code",
   "execution_count": 129,
   "id": "812aadf4",
   "metadata": {},
   "outputs": [
    {
     "data": {
      "image/png": "[encoded data removed]",
      "text/plain": [
       "<Figure size 432x288 with 1 Axes>"
      ]
     },
     "metadata": {
      "needs_background": "light"
     },
     "output_type": "display_data"
    }
   ],
   "source": [
    "from collections import Counter\n",
    "cnts = Counter(data.year)\n",
    "plt.bar(cnts.keys(), cnts.values())\n",
    "plt.xticks(data.year.unique(), rotation='50')\n",
    "plt.xlabel('Years')\n",
    "plt.ylabel('Count')\n",
    "plt.title('Years count distribution')\n",
    "plt.show()"
   ]
  }
 ],
 "metadata": {
  "kernelspec": {
   "display_name": "Python 3 (ipykernel)",
   "language": "python",
   "name": "python3"
  },
  "language_info": {
   "codemirror_mode": {
    "name": "ipython",
    "version": 3
   },
   "file_extension": ".py",
   "mimetype": "text/x-python",
   "name": "python",
   "nbconvert_exporter": "python",
   "pygments_lexer": "ipython3",
   "version": "3.9.7"
  }
 },
 "nbformat": 4,
 "nbformat_minor": 5
}
