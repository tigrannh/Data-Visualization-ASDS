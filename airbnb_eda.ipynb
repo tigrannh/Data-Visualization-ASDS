{
 "cells": [
  {
   "cell_type": "code",
   "execution_count": null,
   "id": "35fcab2b",
   "metadata": {
    "scrolled": true
   },
   "outputs": [],
   "source": [
    "import pandas as pd\n",
    "import matplotlib.pyplot as plt\n",
    "import dash\n",
    "from dash import dcc, html\n",
    "from dash.dependencies import Input, Output\n",
    "import pandas as pd\n",
    "import plotly.express as px"
   ]
  },
  {
   "cell_type": "code",
   "execution_count": null,
   "id": "ef1b5c3c",
   "metadata": {},
   "outputs": [],
   "source": [
    "data = pd.read_csv('data/Airbnb_Texas_Rentals.csv', index_col=0)"
   ]
  },
  {
   "cell_type": "markdown",
   "id": "b8580892",
   "metadata": {},
   "source": [
    "<b> Data characteristics </b>"
   ]
  },
  {
   "cell_type": "code",
   "execution_count": null,
   "id": "8601607c",
   "metadata": {},
   "outputs": [],
   "source": [
    "data.shape"
   ]
  },
  {
   "cell_type": "code",
   "execution_count": null,
   "id": "500dff9b",
   "metadata": {},
   "outputs": [],
   "source": [
    "data.dtypes"
   ]
  },
  {
   "cell_type": "code",
   "execution_count": null,
   "id": "df0da50f",
   "metadata": {},
   "outputs": [],
   "source": [
    "data.head()"
   ]
  },
  {
   "cell_type": "code",
   "execution_count": null,
   "id": "29a09643",
   "metadata": {},
   "outputs": [],
   "source": [
    "data.describe()"
   ]
  },
  {
   "cell_type": "code",
   "execution_count": null,
   "id": "18ce8046",
   "metadata": {},
   "outputs": [],
   "source": [
    "print('Unique values count for each column: ')\n",
    "{i:data[i].nunique() for i in data}"
   ]
  },
  {
   "cell_type": "code",
   "execution_count": null,
   "id": "24aeac44",
   "metadata": {},
   "outputs": [],
   "source": [
    "print('Duplicated values count for each column: ')\n",
    "\n",
    "{i:data[i].duplicated().sum() for i in data}"
   ]
  },
  {
   "cell_type": "code",
   "execution_count": null,
   "id": "f4518e2a",
   "metadata": {},
   "outputs": [],
   "source": [
    "print('Nan values count for each column: ')\n",
    "\n",
    "{i:data[i].isna().sum() for i in data}"
   ]
  },
  {
   "cell_type": "markdown",
   "id": "d419833d",
   "metadata": {},
   "source": [
    "<b> Columns preprocessing </b>"
   ]
  },
  {
   "cell_type": "code",
   "execution_count": null,
   "id": "ebe450fc",
   "metadata": {},
   "outputs": [],
   "source": [
    "data['average_rate_per_night'][~(data['average_rate_per_night'].str.startswith('$').astype('bool').values)]"
   ]
  },
  {
   "cell_type": "code",
   "execution_count": null,
   "id": "b4434d13",
   "metadata": {},
   "outputs": [],
   "source": [
    "data['average_rate_per_night_dollar'] = data['average_rate_per_night'].apply(lambda row: None if pd.isna(row) else row[1:]).values\n",
    "data['average_rate_per_night_dollar'] = data['average_rate_per_night_dollar'].astype('float64')"
   ]
  },
  {
   "cell_type": "code",
   "execution_count": null,
   "id": "1c076e23",
   "metadata": {},
   "outputs": [],
   "source": [
    "(data.bedrooms_count=='0').sum()"
   ]
  },
  {
   "cell_type": "code",
   "execution_count": null,
   "id": "719a58c7",
   "metadata": {},
   "outputs": [],
   "source": [
    "data.bedrooms_count[~(data.bedrooms_count.str.contains('\\\\d', regex=True).astype('bool'))]"
   ]
  },
  {
   "cell_type": "code",
   "execution_count": null,
   "id": "e7a0b97d",
   "metadata": {},
   "outputs": [],
   "source": [
    "data['bedrooms_count_int'] = data['bedrooms_count'].replace('Studio', '0').astype('float64')"
   ]
  },
  {
   "cell_type": "code",
   "execution_count": null,
   "id": "cdf31a03",
   "metadata": {},
   "outputs": [],
   "source": [
    "data['city_chng'] = data['city'].str.lower().str.strip().values"
   ]
  },
  {
   "cell_type": "code",
   "execution_count": null,
   "id": "ed5100f2",
   "metadata": {},
   "outputs": [],
   "source": [
    "data['date_of_listing'].values"
   ]
  },
  {
   "cell_type": "code",
   "execution_count": null,
   "id": "72188aef",
   "metadata": {},
   "outputs": [],
   "source": [
    "data['month'] = data['date_of_listing'].apply(lambda row: row.split(' ')[0]).astype(str).values\n",
    "data['year'] = data['date_of_listing'].apply(lambda row: row.split(' ')[1]).astype(int).values"
   ]
  },
  {
   "cell_type": "code",
   "execution_count": null,
   "id": "2e6e1b5f",
   "metadata": {},
   "outputs": [],
   "source": [
    "data['latitude'] = data['latitude'].astype('float64')\n",
    "data['longitude'] = data['longitude'].astype('float64')"
   ]
  },
  {
   "cell_type": "markdown",
   "id": "4c33f7c3",
   "metadata": {},
   "source": [
    "<b> Data EDA plots</b>"
   ]
  },
  {
   "cell_type": "code",
   "execution_count": null,
   "id": "8eb435e1",
   "metadata": {},
   "outputs": [],
   "source": [
    "data.average_rate_per_night_dollar.describe()"
   ]
  },
  {
   "cell_type": "code",
   "execution_count": null,
   "id": "4bb35967",
   "metadata": {},
   "outputs": [],
   "source": [
    "import numpy as np\n",
    "quants = np.quantile(data.average_rate_per_night_dollar.fillna(0), np.linspace(0, 0.9, 9))"
   ]
  },
  {
   "cell_type": "code",
   "execution_count": null,
   "id": "379c414e",
   "metadata": {},
   "outputs": [],
   "source": [
    "quants"
   ]
  },
  {
   "cell_type": "code",
   "execution_count": null,
   "id": "0bea177e",
   "metadata": {},
   "outputs": [],
   "source": [
    "data.average_rate_per_night_dollar.hist(bins=quants)\n",
    "plt.xticks(quants)\n",
    "plt.title('Average rate per night distribution')\n",
    "plt.xlabel('Avg Rate per night')\n",
    "plt.ylabel('Count')\n",
    "plt.show()"
   ]
  },
  {
   "cell_type": "code",
   "execution_count": null,
   "id": "1aaffeaa",
   "metadata": {},
   "outputs": [],
   "source": [
    "data.bedrooms_count_int.unique()"
   ]
  },
  {
   "cell_type": "code",
   "execution_count": null,
   "id": "2ae9e371",
   "metadata": {},
   "outputs": [],
   "source": [
    "from collections import Counter\n",
    "cnts = Counter(data.bedrooms_count_int)\n",
    "plt.bar(cnts.keys(), cnts.values())\n",
    "plt.xticks(data.bedrooms_count_int.fillna(0).unique())\n",
    "plt.xlabel('Bedrooms count')\n",
    "plt.ylabel('Count')\n",
    "plt.title('Bedrooms count distribution')\n",
    "plt.show()"
   ]
  },
  {
   "cell_type": "code",
   "execution_count": null,
   "id": "243ab82d",
   "metadata": {},
   "outputs": [],
   "source": [
    "from collections import Counter\n",
    "cnts = Counter(data.month)\n",
    "plt.bar(cnts.keys(), cnts.values())\n",
    "plt.xticks(list(cnts.keys()), rotation=50)\n",
    "plt.xlabel('Months')\n",
    "plt.ylabel('Count')\n",
    "plt.title('Months count distribution')\n",
    "plt.show()"
   ]
  },
  {
   "cell_type": "code",
   "execution_count": null,
   "id": "812aadf4",
   "metadata": {},
   "outputs": [],
   "source": [
    "from collections import Counter\n",
    "cnts = Counter(data.year)\n",
    "plt.bar(cnts.keys(), cnts.values())\n",
    "plt.xticks(list(cnts.keys()), rotation=50)\n",
    "plt.xlabel('Years')\n",
    "plt.ylabel('Count')\n",
    "plt.title('Years count distribution')\n",
    "plt.show()"
   ]
  },
  {
   "cell_type": "markdown",
   "id": "39512bd6",
   "metadata": {},
   "source": [
    "#### Data visualization dashboard"
   ]
  },
  {
   "cell_type": "code",
   "execution_count": null,
   "id": "f86ba58a",
   "metadata": {},
   "outputs": [],
   "source": [
    "# app = dash.Dash(__name__)"
   ]
  },
  {
   "cell_type": "code",
   "execution_count": null,
   "id": "8978f42d",
   "metadata": {},
   "outputs": [],
   "source": [
    "# app.layout = html.Div([\n",
    "#     html.Nav([\n",
    "#         html.Ul([\n",
    "#             html.Li(html.A(\"Overview\", href=\"#page-1\")),\n",
    "#             html.Li(html.A(\"Detailed Visualizations\", href=\"#page-2\")),\n",
    "#             html.Li(html.A(\"Cities Comparison\", href=\"#page-3\")),\n",
    "#         ])\n",
    "#     ]),\n",
    "\n",
    "#     html.Div([\n",
    "#         html.H1(\"Airbnb Data Overview\", id=\"page-1\"),\n",
    "#         html.Div([\n",
    "#             html.Div([\n",
    "#                 html.H2(\"Average Rate per Night\"),\n",
    "#                 dcc.Graph(id='avg_rate_per_night'),\n",
    "#             ], className=\"six columns\"),\n",
    "#             html.Div([\n",
    "#                 html.H2(\"Bedrooms Count\"),\n",
    "#                 dcc.Graph(id='bedrooms_count'),\n",
    "#             ], className=\"six columns\"),\n",
    "#         ], className=\"row\"),\n",
    "#     ], id='page-1-container'),\n",
    "\n",
    "#     html.Div([\n",
    "#         html.H1(\"Detailed Visualizations\", id=\"page-2\"),\n",
    "#         dcc.Dropdown(\n",
    "#             id='city-dropdown',\n",
    "#             options=[{'label': city, 'value': city} for city in data['city'].unique()],\n",
    "#             value=data['city'].unique()[0]\n",
    "#         ),\n",
    "#         dcc.Graph(id='map-plot'),\n",
    "#         html.Div(id='selected-property')\n",
    "#     ], id='page-2-container'),\n",
    "\n",
    "#     html.Div([\n",
    "#         html.H1(\"City Comparison\", id=\"page-3\"),\n",
    "#         dcc.Dropdown(\n",
    "#             id='city1-dropdown',\n",
    "#             options=[{'label': city, 'value': city} for city in data['city'].unique()],\n",
    "#             value=data['city'].unique()[0]\n",
    "#         ),\n",
    "#         dcc.Dropdown(\n",
    "#             id='city2-dropdown',\n",
    "#             options=[{'label': city, 'value': city} for city in data['city'].unique()],\n",
    "#             value=data['city'].unique()[1]\n",
    "#         ),\n",
    "#         dcc.Graph(id='city-comparison-plot'),\n",
    "#     ], id='page-3-container')\n",
    "# ])\n"
   ]
  },
  {
   "cell_type": "code",
   "execution_count": null,
   "id": "4245b57c",
   "metadata": {},
   "outputs": [],
   "source": [
    "# @app.callback(\n",
    "#     [Output('avg_rate_per_night', 'figure'),\n",
    "#      Output('bedrooms_count', 'figure')],\n",
    "#     [Input('city-dropdown', 'value')]\n",
    "# )\n",
    "# def update_overview(city):\n",
    "#     filtered_data = data[data['city'] == city]\n",
    "#     avg_rate_fig = px.histogram(filtered_data, x='average_rate_per_night_dollar', title='Average Rate per Night Distribution')\n",
    "#     bedrooms_count_fig = px.bar(filtered_data, x='bedrooms_count', title='Bedrooms Count Distribution')\n",
    "#     return avg_rate_fig, bedrooms_count_fig"
   ]
  },
  {
   "cell_type": "code",
   "execution_count": null,
   "id": "68778c09",
   "metadata": {},
   "outputs": [],
   "source": [
    "# @app.callback(\n",
    "#     [Output('map-plot', 'figure'),\n",
    "#      Output('selected-property', 'children')],\n",
    "#     [Input('city-dropdown', 'value')]\n",
    "# )\n",
    "# def update_map(city):\n",
    "#     filtered_data = data[data['city'] == city]\n",
    "#     map_fig = px.scatter_mapbox(filtered_data, lat='latitude', lon='longitude', hover_name='title', zoom=10)\n",
    "#     map_fig.update_layout(mapbox_style=\"open-street-map\")\n",
    "\n",
    "#     selected_property_info = filtered_data.iloc[0] \n",
    "#     selected_property_html = html.Div([\n",
    "#         html.H3(\"Selected Property Information\"),\n",
    "#         html.P(f\"Title: {selected_property_info['title']}\"),\n",
    "#         html.P(f\"Description: {selected_property_info['description']}\"),\n",
    "#         html.P(f\"URL: {selected_property_info['url']}\")\n",
    "#     ])\n",
    "\n",
    "#     return map_fig, selected_property_html"
   ]
  },
  {
   "cell_type": "code",
   "execution_count": null,
   "id": "5087c40b",
   "metadata": {},
   "outputs": [],
   "source": [
    "# @app.callback(\n",
    "#     Output('city-comparison-plot', 'figure'),\n",
    "#     [Input('city1-dropdown', 'value'),\n",
    "#      Input('city2-dropdown', 'value')]\n",
    "# )\n",
    "# def update_city_comparison(city1, city2):\n",
    "#     filtered_data1 = data[data['city'] == city1]\n",
    "#     filtered_data2 = data[data['city'] == city2]\n",
    "\n",
    "#     city_comparison_fig = px.bar(\n",
    "#         filtered_data1.merge(filtered_data2, how='outer', on='bedrooms_count'),\n",
    "#         x='bedrooms_count',\n",
    "#         y=['average_rate_per_night_dollar_x', 'average_rate_per_night_dollar_y'],\n",
    "#         title=f'Cities Comparison: {city1} vs {city2}',\n",
    "#         labels={'average_rate_per_night_dollar_x': city1, 'average_rate_per_night_dollar_y': city2}\n",
    "#     )\n",
    "#     return city_comparison_fig"
   ]
  },
  {
   "cell_type": "code",
   "execution_count": null,
   "id": "38321eec-8d5a-4f85-acba-60910ed83929",
   "metadata": {},
   "outputs": [],
   "source": [
    "# from plotly.subplots import make_subplots\n",
    "# import plotly.graph_objects as go\n",
    "\n",
    "\n",
    "# @app.callback(\n",
    "#     Output('city-comparison-plot', 'figure'),\n",
    "#     [Input('city1-dropdown', 'value'),\n",
    "#      Input('city2-dropdown', 'value')]\n",
    "# )\n",
    "# def update_city_comparison(city1, city2):\n",
    "#     filtered_data1 = data[data['city'] == city1].sort_values('bedrooms_count')\n",
    "#     filtered_data2 = data[data['city'] == city2].sort_values('bedrooms_count')\n",
    "\n",
    "#     fig = make_subplots(rows=1, cols=2, subplot_titles=(city1, city2))\n",
    "\n",
    "#     fig.add_trace(go.Bar(\n",
    "#         x=filtered_data1['bedrooms_count'],\n",
    "#         y=filtered_data1['average_rate_per_night_dollar'],\n",
    "#         name=city1,\n",
    "#         marker=dict(color='rgb(158,202,225)'),\n",
    "#     ), row=1, col=1)\n",
    "\n",
    "#     fig.add_trace(go.Bar(\n",
    "#         x=filtered_data2['bedrooms_count'],\n",
    "#         y=filtered_data2['average_rate_per_night_dollar'],\n",
    "#         name=city2,\n",
    "#         marker=dict(color='rgb(50, 171, 96)'),\n",
    "#     ), row=1, col=2)\n",
    "\n",
    "#     fig.update_layout(title_text=f'Cities Comparison: {city1} vs {city2}',\n",
    "#                       xaxis_title='Bedrooms Count',\n",
    "#                       yaxis_title='Average Rate per Night (Dollar)')\n",
    "\n",
    "#     return fig\n"
   ]
  },
  {
   "cell_type": "code",
   "execution_count": null,
   "id": "793c12b6",
   "metadata": {},
   "outputs": [],
   "source": [
    "# if __name__ == '__main__':\n",
    "#     app.run_server(debug=True)"
   ]
  },
  {
   "cell_type": "code",
   "execution_count": null,
   "id": "1cc0661f",
   "metadata": {},
   "outputs": [],
   "source": []
  }
 ],
 "metadata": {
  "kernelspec": {
   "display_name": "Python 3 (ipykernel)",
   "language": "python",
   "name": "python3"
  },
  "language_info": {
   "codemirror_mode": {
    "name": "ipython",
    "version": 3
   },
   "file_extension": ".py",
   "mimetype": "text/x-python",
   "name": "python",
   "nbconvert_exporter": "python",
   "pygments_lexer": "ipython3",
   "version": "3.9.18"
  }
 },
 "nbformat": 4,
 "nbformat_minor": 5
}
